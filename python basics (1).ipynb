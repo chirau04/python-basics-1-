{
 "cells": [
  {
   "cell_type": "code",
   "execution_count": 1,
   "id": "72a76a1d-380d-49c5-bee2-cd02c94a9c12",
   "metadata": {},
   "outputs": [
    {
     "data": {
      "text/plain": [
       "2"
      ]
     },
     "execution_count": 1,
     "metadata": {},
     "output_type": "execute_result"
    }
   ],
   "source": [
    "1+1"
   ]
  },
  {
   "cell_type": "code",
   "execution_count": 2,
   "id": "067f7019-72e2-4b62-aace-b53408ff27f9",
   "metadata": {},
   "outputs": [
    {
     "data": {
      "text/plain": [
       "25"
      ]
     },
     "execution_count": 2,
     "metadata": {},
     "output_type": "execute_result"
    }
   ],
   "source": [
    "5*5"
   ]
  },
  {
   "cell_type": "code",
   "execution_count": 4,
   "id": "6ab8602a-4d1f-418a-b344-3afa91ea126f",
   "metadata": {},
   "outputs": [],
   "source": [
    "a=10"
   ]
  },
  {
   "cell_type": "code",
   "execution_count": 5,
   "id": "4db0c05a-2155-4edd-bdfa-e1f89f308f51",
   "metadata": {},
   "outputs": [],
   "source": [
    "sudh=20"
   ]
  },
  {
   "cell_type": "code",
   "execution_count": 6,
   "id": "04eb5a66-1688-45cf-ae68-d70cc33554cd",
   "metadata": {},
   "outputs": [
    {
     "data": {
      "text/plain": [
       "30"
      ]
     },
     "execution_count": 6,
     "metadata": {},
     "output_type": "execute_result"
    }
   ],
   "source": [
    "a+sudh"
   ]
  },
  {
   "cell_type": "code",
   "execution_count": 7,
   "id": "22e50c3c-98c8-4e93-b6cb-c4eaa9773595",
   "metadata": {},
   "outputs": [],
   "source": [
    "n=True"
   ]
  },
  {
   "cell_type": "code",
   "execution_count": 8,
   "id": "c8522caa-0990-4e0e-bc9e-b987410955b9",
   "metadata": {},
   "outputs": [],
   "source": [
    "m=False"
   ]
  },
  {
   "cell_type": "code",
   "execution_count": 9,
   "id": "7d9c1217-9811-423e-9044-f31f526c7dbb",
   "metadata": {},
   "outputs": [
    {
     "data": {
      "text/plain": [
       "1"
      ]
     },
     "execution_count": 9,
     "metadata": {},
     "output_type": "execute_result"
    }
   ],
   "source": [
    "n+m"
   ]
  },
  {
   "cell_type": "code",
   "execution_count": 10,
   "id": "fc22ed59-9b7b-448f-82e0-73613d27d4f2",
   "metadata": {},
   "outputs": [
    {
     "data": {
      "text/plain": [
       "1"
      ]
     },
     "execution_count": 10,
     "metadata": {},
     "output_type": "execute_result"
    }
   ],
   "source": [
    "True*True"
   ]
  },
  {
   "cell_type": "code",
   "execution_count": 11,
   "id": "df8d3283-30c2-4527-a68a-8c1756754405",
   "metadata": {},
   "outputs": [
    {
     "data": {
      "text/plain": [
       "0"
      ]
     },
     "execution_count": 11,
     "metadata": {},
     "output_type": "execute_result"
    }
   ],
   "source": [
    "True*False"
   ]
  },
  {
   "cell_type": "code",
   "execution_count": 12,
   "id": "58ea7ea4-24d4-4b4b-ac41-ab34e08473f2",
   "metadata": {},
   "outputs": [
    {
     "ename": "ZeroDivisionError",
     "evalue": "division by zero",
     "output_type": "error",
     "traceback": [
      "\u001b[0;31m---------------------------------------------------------------------------\u001b[0m",
      "\u001b[0;31mZeroDivisionError\u001b[0m                         Traceback (most recent call last)",
      "Cell \u001b[0;32mIn[12], line 1\u001b[0m\n\u001b[0;32m----> 1\u001b[0m \u001b[38;5;28;43;01mTrue\u001b[39;49;00m\u001b[38;5;241;43m/\u001b[39;49m\u001b[38;5;28;43;01mFalse\u001b[39;49;00m\n",
      "\u001b[0;31mZeroDivisionError\u001b[0m: division by zero"
     ]
    }
   ],
   "source": [
    "True/False"
   ]
  },
  {
   "cell_type": "code",
   "execution_count": 15,
   "id": "ace89594-e771-4b8b-bf51-4130e09e378e",
   "metadata": {},
   "outputs": [],
   "source": [
    "sudh=5+8j"
   ]
  },
  {
   "cell_type": "code",
   "execution_count": 16,
   "id": "4205fe4b-757d-424d-acff-77829cbc6164",
   "metadata": {},
   "outputs": [
    {
     "data": {
      "text/plain": [
       "5.0"
      ]
     },
     "execution_count": 16,
     "metadata": {},
     "output_type": "execute_result"
    }
   ],
   "source": [
    "sudh.real"
   ]
  },
  {
   "cell_type": "code",
   "execution_count": 19,
   "id": "5a8c4410-779d-46fe-ab90-6f6a474e4b49",
   "metadata": {},
   "outputs": [
    {
     "data": {
      "text/plain": [
       "8.0"
      ]
     },
     "execution_count": 19,
     "metadata": {},
     "output_type": "execute_result"
    }
   ],
   "source": [
    "sudh.imag"
   ]
  },
  {
   "cell_type": "code",
   "execution_count": 20,
   "id": "6164a7b3-edbe-49ff-8b2c-e75c0b49c0ce",
   "metadata": {},
   "outputs": [],
   "source": [
    "s=\"pwskills\""
   ]
  },
  {
   "cell_type": "code",
   "execution_count": 21,
   "id": "3bf74c9f-4894-4ce3-afdb-2da06c7bfa09",
   "metadata": {},
   "outputs": [
    {
     "data": {
      "text/plain": [
       "'pws'"
      ]
     },
     "execution_count": 21,
     "metadata": {},
     "output_type": "execute_result"
    }
   ],
   "source": [
    "s[0:3]"
   ]
  },
  {
   "cell_type": "code",
   "execution_count": 22,
   "id": "ad452613-ef5b-41ba-9798-389970fbca0e",
   "metadata": {},
   "outputs": [],
   "source": [
    "c=\"paramount\""
   ]
  },
  {
   "cell_type": "code",
   "execution_count": 23,
   "id": "6879449e-3bd1-48dd-bbeb-14b839f6d866",
   "metadata": {},
   "outputs": [
    {
     "data": {
      "text/plain": [
       "'para'"
      ]
     },
     "execution_count": 23,
     "metadata": {},
     "output_type": "execute_result"
    }
   ],
   "source": [
    "c[0:4]"
   ]
  },
  {
   "cell_type": "code",
   "execution_count": 24,
   "id": "3d60cf94-a90c-43a7-a5cf-9049d1364dfc",
   "metadata": {},
   "outputs": [
    {
     "data": {
      "text/plain": [
       "'prmu'"
      ]
     },
     "execution_count": 24,
     "metadata": {},
     "output_type": "execute_result"
    }
   ],
   "source": [
    "c[0:8:2]"
   ]
  },
  {
   "cell_type": "code",
   "execution_count": 25,
   "id": "5c21efaa-73f7-4008-83df-7390e6a26116",
   "metadata": {},
   "outputs": [
    {
     "data": {
      "text/plain": [
       "'paramoun'"
      ]
     },
     "execution_count": 25,
     "metadata": {},
     "output_type": "execute_result"
    }
   ],
   "source": [
    "c[0:8:1]"
   ]
  },
  {
   "cell_type": "code",
   "execution_count": 26,
   "id": "6c23dbce-8518-4d12-a6a4-2aab5d3214c8",
   "metadata": {},
   "outputs": [
    {
     "data": {
      "text/plain": [
       "'para'"
      ]
     },
     "execution_count": 26,
     "metadata": {},
     "output_type": "execute_result"
    }
   ],
   "source": [
    "c[0:4:1]"
   ]
  },
  {
   "cell_type": "code",
   "execution_count": 27,
   "id": "1f99bd3f-7983-499f-bfa5-379e3953f34b",
   "metadata": {},
   "outputs": [
    {
     "data": {
      "text/plain": [
       "'prmut'"
      ]
     },
     "execution_count": 27,
     "metadata": {},
     "output_type": "execute_result"
    }
   ],
   "source": [
    "c[::2]"
   ]
  },
  {
   "cell_type": "code",
   "execution_count": 28,
   "id": "e041b178-68fe-4453-b662-13796ad86f27",
   "metadata": {},
   "outputs": [
    {
     "data": {
      "text/plain": [
       "'tnuomarap'"
      ]
     },
     "execution_count": 28,
     "metadata": {},
     "output_type": "execute_result"
    }
   ],
   "source": [
    "c[::-1]"
   ]
  },
  {
   "cell_type": "code",
   "execution_count": 29,
   "id": "01761d21-8388-41c7-aa1b-e2cab453920d",
   "metadata": {},
   "outputs": [
    {
     "data": {
      "text/plain": [
       "''"
      ]
     },
     "execution_count": 29,
     "metadata": {},
     "output_type": "execute_result"
    }
   ],
   "source": [
    "c[2:7:-1]"
   ]
  },
  {
   "cell_type": "code",
   "execution_count": 30,
   "id": "f27dbaa9-2182-457b-9c34-842d2cdbdaee",
   "metadata": {},
   "outputs": [
    {
     "data": {
      "text/plain": [
       "''"
      ]
     },
     "execution_count": 30,
     "metadata": {},
     "output_type": "execute_result"
    }
   ],
   "source": [
    "c[8:0]"
   ]
  },
  {
   "cell_type": "code",
   "execution_count": 31,
   "id": "f8ed4196-baa3-417d-9aca-3d36949fa8d7",
   "metadata": {},
   "outputs": [
    {
     "data": {
      "text/plain": [
       "''"
      ]
     },
     "execution_count": 31,
     "metadata": {},
     "output_type": "execute_result"
    }
   ],
   "source": [
    "c[-2:-8:1]"
   ]
  },
  {
   "cell_type": "code",
   "execution_count": null,
   "id": "665ea752-3c33-4ba3-988c-e6a1620cb29a",
   "metadata": {},
   "outputs": [],
   "source": []
  }
 ],
 "metadata": {
  "kernelspec": {
   "display_name": "Python 3 (ipykernel)",
   "language": "python",
   "name": "python3"
  },
  "language_info": {
   "codemirror_mode": {
    "name": "ipython",
    "version": 3
   },
   "file_extension": ".py",
   "mimetype": "text/x-python",
   "name": "python",
   "nbconvert_exporter": "python",
   "pygments_lexer": "ipython3",
   "version": "3.10.8"
  }
 },
 "nbformat": 4,
 "nbformat_minor": 5
}
